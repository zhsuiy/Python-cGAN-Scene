{
 "cells": [
  {
   "cell_type": "code",
   "execution_count": 2,
   "metadata": {},
   "outputs": [],
   "source": [
    "model = ['CGAN','CWGAN','CWGAN_GP']\n",
    "\n",
    "commands = []\n",
    "\n",
    "critics = [1, 2, 5, 10]\n",
    "batch_size = [8, 16, 64, 128]\n",
    "#lrGs = [0.01, 0.001, 0.0001, 0.00001, 0.000001]\n",
    "#lrDs = [0.01, 0.001, 0.0001, 0.00001, 0.000001]\n",
    "lrGs = [0.001, 0.0001, 0.00001, 0.000001]\n",
    "lrDs = [0.001, 0.0001, 0.00001, 0.000001]\n",
    "lr = [0.001, 0.0001, 0.00001, 0.000001]\n",
    "\n",
    "clipping = [0.1, 0.01, 0.001, 0.0001]\n",
    "\n",
    "\n",
    "beta1 = [0, 0.5, 0.999]\n",
    "beta2 = [0, 0.5, 0.999]\n",
    "\n",
    "metric_knn_k = [1, 7]"
   ]
  },
  {
   "cell_type": "code",
   "execution_count": 10,
   "metadata": {},
   "outputs": [],
   "source": [
    "dataset_noise = ['False', 'True']\n",
    "gumbel = [0.1, 0.333, 0.666, 0.999]\n",
    "net_complx = [16, 32, 64, 128, 256]\n",
    "z_dim = [10, 40,  80, 100, 150, 200]\n",
    "\n",
    "\n",
    "\n",
    "\n",
    "\n",
    "\n",
    "with open('batchCGANScene.bat','w') as f:\n",
    "    for n in dataset_noise:\n",
    "        for g in gumbel:\n",
    "            for nc in net_complx:\n",
    "                for z in z_dim:\n",
    "                    for b in batch_size:\n",
    "                        f.write('python main.py --gan_type CGANScene '\n",
    "                                '--batch_mode True --metric_knn_k 7 '\n",
    "                                '--epoch 50 --dataset scene --class_num 4 '\n",
    "                                '--dataset_noise {} '\n",
    "                                '--gumbel_temp {} '\n",
    "                                '--net_complex {} '\n",
    "                                '--z_dim {} '\n",
    "                                '--batch_size {}\\n'.format(n, g, nc, z, b))"
   ]
  },
  {
   "cell_type": "code",
   "execution_count": 8,
   "metadata": {},
   "outputs": [],
   "source": [
    "## dataset_noise = ['False', 'True']\n",
    "gumbel = [0.1, 0.2, 0.5]\n",
    "net_complx = [16, 32, 64, 128, 256]\n",
    "z_dim = [10, 20, 40, 50, 80,100, 120, 150, 200]\n",
    "\n",
    "\n",
    "for g in gumbel:\n",
    "    with open('batchCGANScene-gumbel-%d.sh' % (g*10),'w') as f:       \n",
    "        for nc in net_complx:\n",
    "            for z in z_dim:\n",
    "                for b in batch_size:\n",
    "                    f.write('CUDA_VISIBLE_DEVICES=1,2,3 python3 main.py --gan_type CGANScene '\n",
    "                            '--batch_mode True --metric_knn_k 7 '\n",
    "                            '--epoch 250 --dataset scene --class_num 2 WGAN_GP True WGAN_GP_lambda 0.1 '                               \n",
    "                            '--gumbel_temp {} '\n",
    "                            '--net_complex {} '\n",
    "                            '--z_dim {} '\n",
    "                            '--batch_size {}\\n'.format(n, g, nc, z, b))"
   ]
  },
  {
   "cell_type": "code",
   "execution_count": 3,
   "metadata": {},
   "outputs": [
    {
     "name": "stdout",
     "output_type": "stream",
     "text": [
      "hello:1.000\n"
     ]
    }
   ],
   "source": [
    "print('%s:%.3f'%('hello', 1))"
   ]
  },
  {
   "cell_type": "code",
   "execution_count": null,
   "metadata": {},
   "outputs": [],
   "source": [
    "\n",
    "\n",
    "with open('batchCGAN.sh','w') as f:\n",
    "    for c in critics:\n",
    "        f.write('CUDA_VISIBLE_DEVICES=2 python3 main.py '\n",
    "                '--gpu_mode True --batch_mode True '\n",
    "                '--epoch 100 --critic {}\\n'.format(c))\n"
   ]
  },
  {
   "cell_type": "code",
   "execution_count": null,
   "metadata": {},
   "outputs": [],
   "source": [
    "\n",
    "with open('batchCWGAN.sh','w') as f:\n",
    "    for c in critics:\n",
    "        for l in lr:\n",
    "            for clip in clipping:\n",
    "                for k in metric_knn_k:\n",
    "                    f.write('CUDA_VISIBLE_DEVICES=2 python3 main.py '\n",
    "                            '--gpu_mode True --batch_mode True --gan_type CWGAN '                    \n",
    "                            '--epoch 100 --critic {} '\n",
    "                            '--lrG {} --lrD {} '\n",
    "                            '--clipping {} --metric_knn_k {}\\n'.format(c, l, l, clip, k))\n",
    "\n"
   ]
  },
  {
   "cell_type": "code",
   "execution_count": null,
   "metadata": {},
   "outputs": [],
   "source": [
    "with open('batchCWGAN_GP.sh','w') as f:\n",
    "    for c in critics:\n",
    "        for l in lr:\n",
    "            for k in metric_knn_k:\n",
    "                for b1 in beta1:\n",
    "                    for b2 in beta2:\n",
    "                        f.write('CUDA_VISIBLE_DEVICES=2 python3 main.py '\n",
    "                                '--gpu_mode True --batch_mode True --gan_type CWGAN_GP '\n",
    "                                '--epoch 100 --critic {} '\n",
    "                                '--lrG {} --lrD {} '\n",
    "                                '--metric_knn_k {} '\n",
    "                                '--beta1 {} --beta2 {}\\n'.format(c, l, l, k, b1, b2))"
   ]
  }
 ],
 "metadata": {
  "kernelspec": {
   "display_name": "Python 3",
   "language": "python",
   "name": "python3"
  },
  "language_info": {
   "codemirror_mode": {
    "name": "ipython",
    "version": 3
   },
   "file_extension": ".py",
   "mimetype": "text/x-python",
   "name": "python",
   "nbconvert_exporter": "python",
   "pygments_lexer": "ipython3",
   "version": "3.7.0"
  }
 },
 "nbformat": 4,
 "nbformat_minor": 2
}
